{
 "cells": [
  {
   "cell_type": "markdown",
   "id": "91a05964-6ec2-4869-a94c-919ed1c9cc51",
   "metadata": {},
   "source": [
    "# 08_07_PyTorch_Intel_XPU"
   ]
  },
  {
   "cell_type": "code",
   "execution_count": null,
   "id": "520c93e4-94dd-46e0-95cd-8bec8e2316de",
   "metadata": {},
   "outputs": [],
   "source": [
    "# %load 08_07_PyTorch_Intel_XPU.py\n",
    "import warnings\n",
    "\n",
    "warnings.filterwarnings(\"ignore\")\n",
    "\n",
    "import argparse\n",
    "import torch\n",
    "\n",
    "GREEN = \"\\033[32m\"\n",
    "YELLOW = \"\\033[33m\"\n",
    "RED = \"\\033[31m\"\n",
    "RESET = \"\\033[0m\"\n",
    "\n",
    "\n",
    "def colorize(text, color):\n",
    "    return f\"{color}{text}{RESET}\"\n",
    "\n",
    "\n",
    "def test_random_multiplication(dtype=torch.float32):\n",
    "    try:\n",
    "        print(\n",
    "            colorize(f\"Random {dtype.__str__().split('.')[-1]} multiplication:\", GREEN)\n",
    "        )\n",
    "        x = torch.rand(1, 1).to(\"xpu\", dtype=dtype)\n",
    "        y = torch.rand(1, 1).to(\"xpu\", dtype=dtype)\n",
    "        z = x * y\n",
    "        print(\"  Input x:\", x.cpu())\n",
    "        print(\"  Input y:\", y.cpu())\n",
    "        print(\"  Output z:\", z.cpu())\n",
    "    except Exception as e:\n",
    "        print(\n",
    "            colorize(\n",
    "                f\"Error during {dtype.__str__().split('.')} random multiplication: {e}\",\n",
    "                RED,\n",
    "            )\n",
    "        )\n",
    "        exit(1)\n",
    "\n",
    "\n",
    "def test_specific_multiplication(dtype=torch.float32):\n",
    "    try:\n",
    "        print(\n",
    "            colorize(\n",
    "                f\"Specific {dtype.__str__().split('.')[-1]} multiplication:\", GREEN\n",
    "            )\n",
    "        )\n",
    "        x = torch.tensor([[1.0, 2.0]]).to(\"xpu\", dtype=dtype)\n",
    "        y = torch.tensor([[3.0, 4.0]]).to(\"xpu\", dtype=dtype)\n",
    "        z_expected = torch.tensor([[3.0, 8.0]]).to(\"xpu\", dtype=dtype)\n",
    "        z = x * y\n",
    "        print(\"  Input x:\", x.cpu())\n",
    "        print(\"  Input y:\", y.cpu())\n",
    "        print(\"  Output z:\", z.cpu())\n",
    "        if torch.allclose(z, z_expected):\n",
    "            print(\"Calculation is correct\")\n",
    "        else:\n",
    "            print(\"Calculation is incorrect\")\n",
    "    except Exception as e:\n",
    "        print(\n",
    "            colorize(\n",
    "                f\"Error during {dtype.__str__().split('.')} specific multiplication: {e}\",\n",
    "                RED,\n",
    "            )\n",
    "        )\n",
    "        exit(1)\n",
    "\n",
    "\n",
    "def main(args):\n",
    "    try:\n",
    "        print(f\"torch version: {torch.__version__}\")\n",
    "        torch.manual_seed(args.seed)\n",
    "        import intel_extension_for_pytorch as ipex\n",
    "        ipex.xpu.seed_all()\n",
    "        if ipex.xpu.is_available():\n",
    "            print(f\"ipex version: {ipex.__version__}\")\n",
    "            device_name = ipex.xpu.get_device_name()\n",
    "            print(f\"Intel XPU device is available, Device name: {device_name}\")\n",
    "            if not ipex.xpu.has_fp64_dtype():\n",
    "                print(\n",
    "                    colorize(\n",
    "                        \"Warning: Native FP64 type not supported on this platform\",\n",
    "                        YELLOW,\n",
    "                    )\n",
    "                )\n",
    "            data_types = [\n",
    "                torch.int8,\n",
    "                torch.int16,\n",
    "                torch.int32,\n",
    "                torch.int64,\n",
    "                torch.float16,\n",
    "                torch.float32,\n",
    "                torch.bfloat16,\n",
    "                torch.float64,\n",
    "            ]\n",
    "            for dtype in data_types:\n",
    "                if dtype == torch.float64 and not ipex.xpu.has_fp64_dtype():\n",
    "                    print(\n",
    "                        colorize(\n",
    "                            \"Skipping direct FP64 multiplication tests, as the device doesn't support it.\",\n",
    "                            YELLOW,\n",
    "                        )\n",
    "                    )\n",
    "                    continue\n",
    "                test_random_multiplication(dtype)\n",
    "                test_specific_multiplication(dtype)\n",
    "        else:\n",
    "            print(\"Warning: Intel XPU device is not available\")\n",
    "            raise Exception(\"Intel XPU device not detected\")\n",
    "        print(colorize(\"PyTorch XPU tests successful!\", GREEN))\n",
    "    except ImportError as e:\n",
    "        print(colorize(f\"Failed to import Intel Extension for PyTorch: {e}\", RED))\n",
    "    except Exception as e:\n",
    "        print(colorize(\"An error occurred during the test: {e}\", RED))\n",
    "\n",
    "\n",
    "if __name__ == \"__main__\":\n",
    "    parser = argparse.ArgumentParser(description=\"Test Intel XPU device\")\n",
    "    parser.add_argument(\"--seed\", type=int, default=42, help=\"Random seed\")\n",
    "    args = parser.parse_args()\n",
    "    main(args)"
   ]
  },
  {
   "cell_type": "code",
   "execution_count": null,
   "id": "7f063288-6dc8-4799-a023-a9dd35f939a9",
   "metadata": {},
   "outputs": [],
   "source": []
  },
  {
   "cell_type": "markdown",
   "id": "b747fc8f-49a2-443a-ad86-4e4b6b83a0a6",
   "metadata": {},
   "source": [
    "# Test gen 9 GPU"
   ]
  },
  {
   "cell_type": "code",
   "execution_count": null,
   "id": "9ad34744-6720-4a54-900f-49924aff236b",
   "metadata": {},
   "outputs": [],
   "source": [
    "import os\n",
    "import shutil\n",
    "\n",
    "# getting the current working directory\n",
    "src_dir = os.getcwd()\n",
    "\n",
    "# copying the files\n",
    "shutil.copyfile('q_gen9', 'q') #copy src to dst"
   ]
  },
  {
   "cell_type": "code",
   "execution_count": null,
   "id": "3237171c-87f7-4b5c-b8fe-ed6e7abea406",
   "metadata": {},
   "outputs": [],
   "source": [
    "! chmod 755 q; chmod 755 run_Pytorch_xpu.sh; if [ -x \"$(command -v qsub)\" ]; then ./q run_Pytorch_xpu.sh; else ./run_Pytorch_xpu.sh; fi"
   ]
  },
  {
   "cell_type": "markdown",
   "id": "8f0e8a4d-489f-4c76-9ad8-d2781ac83822",
   "metadata": {},
   "source": [
    "# Test gen 11 GPU"
   ]
  },
  {
   "cell_type": "code",
   "execution_count": null,
   "id": "1c545b75-73eb-4b1d-8dc2-d276afe2b2a1",
   "metadata": {},
   "outputs": [],
   "source": [
    "# copying the files\n",
    "import shutil\n",
    "shutil.copyfile('q_gen11', 'q') #copy src to dst\n",
    "! chmod 755 q; chmod 755 run_Pytorch_xpu.sh; if [ -x \"$(command -v qsub)\" ]; then ./q run_Pytorch_xpu.sh; else ./run_Pytorch_xpu.sh; fi"
   ]
  },
  {
   "cell_type": "markdown",
   "id": "610dc538-d9a9-4628-b411-d80546941e28",
   "metadata": {},
   "source": [
    "# Test pvc GPU"
   ]
  },
  {
   "cell_type": "code",
   "execution_count": null,
   "id": "a88288b4-5529-425b-8396-b86d25cc93be",
   "metadata": {},
   "outputs": [],
   "source": [
    "# copying the files\n",
    "import shutil\n",
    "shutil.copyfile('q_pvc', 'q') #copy src to dst\n",
    "! chmod 755 q; chmod 755 run_Pytorch_xpu.sh; if [ -x \"$(command -v qsub)\" ]; then ./q run_Pytorch_xpu.sh; else ./run_Pytorch_xpu.sh; fi"
   ]
  },
  {
   "cell_type": "markdown",
   "id": "af486f29-dbed-4ffc-9aa2-3aad2b2faffc",
   "metadata": {},
   "source": [
    "# Notices and Disclaimers\n",
    "\n",
    "Intel technologies may require enabled hardware, software or service activation.\n",
    "No product or component can be absolutely secure. \n",
    "\n",
    "Your costs and results may vary. \n",
    "\n",
    "© Intel Corporation. Intel, the Intel logo, and other Intel marks are trademarks of Intel Corporation or its subsidiaries. Other names and brands may be claimed as the property of others. "
   ]
  },
  {
   "cell_type": "code",
   "execution_count": null,
   "id": "51c9a472-8e2c-4eb6-97d8-79a939f3d270",
   "metadata": {},
   "outputs": [],
   "source": []
  }
 ],
 "metadata": {
  "kernelspec": {
   "display_name": "PyTorch (AI kit)",
   "language": "python",
   "name": "c009-intel_distribution_of_python_3_oneapi-beta05-pytorch"
  },
  "language_info": {
   "codemirror_mode": {
    "name": "ipython",
    "version": 3
   },
   "file_extension": ".py",
   "mimetype": "text/x-python",
   "name": "python",
   "nbconvert_exporter": "python",
   "pygments_lexer": "ipython3",
   "version": "3.9.16"
  }
 },
 "nbformat": 4,
 "nbformat_minor": 5
}
